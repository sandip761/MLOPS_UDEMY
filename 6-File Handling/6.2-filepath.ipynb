{
 "cells": [
  {
   "cell_type": "code",
   "execution_count": 1,
   "metadata": {},
   "outputs": [
    {
     "name": "stdout",
     "output_type": "stream",
     "text": [
      "Current working directory is c:\\MLOPs\\6-File Handling\n"
     ]
    }
   ],
   "source": [
    "import os\n",
    "cwd = os.getcwd()\n",
    "print(f\"Current working directory is {cwd}\")"
   ]
  },
  {
   "cell_type": "code",
   "execution_count": 2,
   "metadata": {},
   "outputs": [
    {
     "name": "stdout",
     "output_type": "stream",
     "text": [
      "Directory 'package' create\n"
     ]
    }
   ],
   "source": [
    "## Create a new directory\n",
    "new_directory = \"package\"\n",
    "os.mkdir(new_directory)\n",
    "print(f\"Directory '{new_directory}' create\")"
   ]
  },
  {
   "cell_type": "code",
   "execution_count": 3,
   "metadata": {},
   "outputs": [
    {
     "name": "stdout",
     "output_type": "stream",
     "text": [
      "['6.2-filepath.ipynb', 'detination.txt', 'example.bin', 'example.txt', 'fileOPeration.ipynb', 'package']\n"
     ]
    }
   ],
   "source": [
    "#Listing Files and Directories\n",
    "items=os.listdir('.')\n",
    "print(items)"
   ]
  },
  {
   "cell_type": "code",
   "execution_count": 4,
   "metadata": {},
   "outputs": [
    {
     "name": "stdout",
     "output_type": "stream",
     "text": [
      "c:\\MLOPs\\6-File Handling\\folder\\file.txt\n"
     ]
    }
   ],
   "source": [
    "### Joining Paths\n",
    "dir_name = \"folder\"\n",
    "file_name = \"file.txt\"\n",
    "full_path = os.path.join(os.getcwd(), dir_name, file_name)\n",
    "print(full_path)"
   ]
  },
  {
   "cell_type": "code",
   "execution_count": null,
   "metadata": {},
   "outputs": [
    {
     "name": "stdout",
     "output_type": "stream",
     "text": [
      "The path 'example1.txt' does not exists\n"
     ]
    }
   ],
   "source": [
    "#check if the file exists in a specific path\n",
    "path = 'example1.txt'\n",
    "if os.path.exists(path):\n",
    "    print(f\"The Path '{path}' exists\")\n",
    "else:\n",
    "    print(f\"The path '{path}' does not exists\")"
   ]
  },
  {
   "cell_type": "code",
   "execution_count": 6,
   "metadata": {},
   "outputs": [
    {
     "name": "stdout",
     "output_type": "stream",
     "text": [
      "The path 'example.txt' is a file\n"
     ]
    }
   ],
   "source": [
    "#Checking if a ptah is a file or Directory\n",
    "import os\n",
    "path = \"example.txt\"\n",
    "\n",
    "if os.path.isfile(path):\n",
    "    print(f\"The path '{path}' is a file\")\n",
    "\n",
    "elif os.path.isdir(path):\n",
    "    print(f\"The path '{path}' is a directory\")\n",
    "\n",
    "else:\n",
    "    print(f\"The path '{path}' is neither a file nor a directory\")\n"
   ]
  },
  {
   "cell_type": "code",
   "execution_count": null,
   "metadata": {},
   "outputs": [
    {
     "name": "stdout",
     "output_type": "stream",
     "text": [
      "c:\\MLOPs\\6-File Handling\\example.txt\n"
     ]
    },
    {
     "ename": "",
     "evalue": "",
     "output_type": "error",
     "traceback": [
      "\u001b[1;31mThe Kernel crashed while executing code in the current cell or a previous cell. \n",
      "\u001b[1;31mPlease review the code in the cell(s) to identify a possible cause of the failure. \n",
      "\u001b[1;31mClick <a href='https://aka.ms/vscodeJupyterKernelCrash'>here</a> for more info. \n",
      "\u001b[1;31mView Jupyter <a href='command:jupyter.viewOutput'>log</a> for further details."
     ]
    }
   ],
   "source": [
    "## Getting the absolute path\n",
    "relative_path = 'example.txt'\n",
    "absolute_path = os.path.abspath(relative_path)\n",
    "print(absolute_path)"
   ]
  }
 ],
 "metadata": {
  "kernelspec": {
   "display_name": "Python 3",
   "language": "python",
   "name": "python3"
  },
  "language_info": {
   "codemirror_mode": {
    "name": "ipython",
    "version": 3
   },
   "file_extension": ".py",
   "mimetype": "text/x-python",
   "name": "python",
   "nbconvert_exporter": "python",
   "pygments_lexer": "ipython3",
   "version": "3.12.0"
  }
 },
 "nbformat": 4,
 "nbformat_minor": 2
}
