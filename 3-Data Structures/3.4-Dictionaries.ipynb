{
 "cells": [
  {
   "cell_type": "markdown",
   "metadata": {},
   "source": [
    "#### Introduction to Dictionaries\n",
    "\n",
    "Dictionaries are unordered collection of items. They store data in key-value pairs. Key must be unique and immutable(eg., strings, numbers, or tuples), while values can be any type"
   ]
  },
  {
   "cell_type": "code",
   "execution_count": null,
   "metadata": {},
   "outputs": [],
   "source": [
    "#Creating Dictionaries\n",
    "empty_dict = {}#way to create empty dict\n",
    "print(type(empty_dict))"
   ]
  },
  {
   "cell_type": "code",
   "execution_count": null,
   "metadata": {},
   "outputs": [],
   "source": [
    "empty_dict = dict()#way to create empty dict\n",
    "empty_dict"
   ]
  },
  {
   "cell_type": "code",
   "execution_count": 2,
   "metadata": {},
   "outputs": [
    {
     "name": "stdout",
     "output_type": "stream",
     "text": [
      "{'name': 'Krish', 'age': 32, 'grade': 24}\n",
      "<class 'dict'>\n"
     ]
    }
   ],
   "source": [
    "student = {\"name\":\"Krish\", \"age\":32, \"grade\":24}\n",
    "print(student)\n",
    "print(type(student))"
   ]
  },
  {
   "cell_type": "code",
   "execution_count": null,
   "metadata": {},
   "outputs": [
    {
     "name": "stdout",
     "output_type": "stream",
     "text": [
      "{'name': 24, 'age': 32}\n"
     ]
    }
   ],
   "source": [
    "#Single key is always used\n",
    "student = {\"name\":\"Krish\", \"age\":32, \"name\":24}\n",
    "print(student)"
   ]
  },
  {
   "cell_type": "code",
   "execution_count": 4,
   "metadata": {},
   "outputs": [
    {
     "name": "stdout",
     "output_type": "stream",
     "text": [
      "{'name': 'Krish', 'age': 32, 'grade': 'A'}\n"
     ]
    }
   ],
   "source": [
    "#accessing dictionary element\n",
    "student = {\"name\":\"Krish\", \"age\":32, \"grade\":'A'}\n",
    "print(student)"
   ]
  },
  {
   "cell_type": "code",
   "execution_count": null,
   "metadata": {},
   "outputs": [
    {
     "name": "stdout",
     "output_type": "stream",
     "text": [
      "A\n",
      "32\n",
      "A\n",
      "None\n",
      "Not Available\n"
     ]
    }
   ],
   "source": [
    "#Accessing the dictionary elemnts\n",
    "print(student['grade'])\n",
    "print(student['age'])\n",
    "#Accessing using get() method\n",
    "print(student.get('grade'))\n",
    "print(student.get('last_name'))\n",
    "print(student.get('last_name', \"Not Available\"))#since last_name is not present in the dictionary it will print defualt value given\"Not Available\""
   ]
  },
  {
   "cell_type": "code",
   "execution_count": 7,
   "metadata": {},
   "outputs": [
    {
     "name": "stdout",
     "output_type": "stream",
     "text": [
      "{'name': 'Krish', 'age': 32, 'grade': 'A'}\n"
     ]
    }
   ],
   "source": [
    "#Modifying Dictionary Element\n",
    "##Dictionary are mtuable, so you can aadd, update or delete elements\n",
    "print(student)"
   ]
  },
  {
   "cell_type": "code",
   "execution_count": null,
   "metadata": {},
   "outputs": [
    {
     "name": "stdout",
     "output_type": "stream",
     "text": [
      "{'name': 'Krish', 'age': 33, 'grade': 'A'}\n",
      "{'name': 'Krish', 'age': 33, 'grade': 'A', 'address': 'India'}\n"
     ]
    }
   ],
   "source": [
    "student[\"age\"]=33##Updated the value for the key\n",
    "print(student)\n",
    "student[\"address\"]=\"India\"## added a new key and value\n",
    "print(student)"
   ]
  },
  {
   "cell_type": "code",
   "execution_count": 9,
   "metadata": {},
   "outputs": [
    {
     "name": "stdout",
     "output_type": "stream",
     "text": [
      "{'name': 'Krish', 'age': 33, 'address': 'India'}\n"
     ]
    }
   ],
   "source": [
    "del student[\"grade\"] ## delete the key and value pair\n",
    "print(student)"
   ]
  },
  {
   "cell_type": "code",
   "execution_count": 10,
   "metadata": {},
   "outputs": [
    {
     "name": "stdout",
     "output_type": "stream",
     "text": [
      "dict_keys(['name', 'age', 'address'])\n",
      "dict_values(['Krish', 33, 'India'])\n",
      "dict_items([('name', 'Krish'), ('age', 33), ('address', 'India')])\n"
     ]
    }
   ],
   "source": [
    "## Dictionary methods\n",
    "\n",
    "keys = student.keys()## get all the keys\n",
    "print(keys)\n",
    "\n",
    "values = student.values()##get all the values\n",
    "print(values)\n",
    "\n",
    "items = student.items() ##get all key value pair\n",
    "print(items)"
   ]
  },
  {
   "cell_type": "code",
   "execution_count": 11,
   "metadata": {},
   "outputs": [
    {
     "name": "stdout",
     "output_type": "stream",
     "text": [
      "{'name': 'Krish', 'age': 33, 'address': 'India'}\n",
      "{'name': 'Krish', 'age': 33, 'address': 'India'}\n"
     ]
    }
   ],
   "source": [
    "## shallow copy\n",
    "student_copy = student\n",
    "print(student)\n",
    "print(student_copy)"
   ]
  },
  {
   "cell_type": "code",
   "execution_count": 12,
   "metadata": {},
   "outputs": [
    {
     "name": "stdout",
     "output_type": "stream",
     "text": [
      "{'name': 'Krish2', 'age': 33, 'address': 'India'}\n",
      "{'name': 'Krish2', 'age': 33, 'address': 'India'}\n"
     ]
    }
   ],
   "source": [
    "student[\"name\"] = \"Krish2\"\n",
    "print(student)\n",
    "print(student_copy)"
   ]
  },
  {
   "cell_type": "code",
   "execution_count": 13,
   "metadata": {},
   "outputs": [
    {
     "name": "stdout",
     "output_type": "stream",
     "text": [
      "{'name': 'Krish2', 'age': 33, 'address': 'India'}\n",
      "{'name': 'Krish2', 'age': 33, 'address': 'India'}\n"
     ]
    }
   ],
   "source": [
    "student_copy1 = student.copy() ##shallow copy\n",
    "print(student_copy1)\n",
    "print(student)"
   ]
  },
  {
   "cell_type": "code",
   "execution_count": 15,
   "metadata": {},
   "outputs": [
    {
     "name": "stdout",
     "output_type": "stream",
     "text": [
      "{'name': 'Krish2', 'age': 33, 'address': 'India'}\n",
      "{'name': 'Krish3', 'age': 33, 'address': 'India'}\n"
     ]
    }
   ],
   "source": [
    "student[\"name\"] = \"Krish3\"\n",
    "print(student_copy1)\n",
    "print(student)\n"
   ]
  },
  {
   "cell_type": "code",
   "execution_count": 16,
   "metadata": {},
   "outputs": [
    {
     "name": "stdout",
     "output_type": "stream",
     "text": [
      "name\n",
      "age\n",
      "address\n"
     ]
    }
   ],
   "source": [
    "#iterating over dictionary\n",
    "#you can use loops to iterative over dictionaries, keys, values or items\n",
    "\n",
    "##items over keys\n",
    "\n",
    "for key in student.keys():\n",
    "    print(key) "
   ]
  },
  {
   "cell_type": "code",
   "execution_count": 17,
   "metadata": {},
   "outputs": [
    {
     "name": "stdout",
     "output_type": "stream",
     "text": [
      "Krish3\n",
      "33\n",
      "India\n"
     ]
    }
   ],
   "source": [
    "#Iterate over values\n",
    "for value in student.values():\n",
    "    print(value)"
   ]
  },
  {
   "cell_type": "code",
   "execution_count": 18,
   "metadata": {},
   "outputs": [
    {
     "name": "stdout",
     "output_type": "stream",
     "text": [
      "name:Krish3\n",
      "age:33\n",
      "address:India\n"
     ]
    }
   ],
   "source": [
    "for key, value in student.items():\n",
    "    print(f\"{key}:{value}\")"
   ]
  },
  {
   "cell_type": "code",
   "execution_count": 19,
   "metadata": {},
   "outputs": [
    {
     "name": "stdout",
     "output_type": "stream",
     "text": [
      "{'student1': {'name': 'Krish', 'age': 32}, 'student2': {'name': 'Peter', 'age': 35}}\n"
     ]
    }
   ],
   "source": [
    "##Nested Dictionaries\n",
    "students = {\n",
    "    \"student1\":{\"name\":\"Krish\",\"age\":32},\n",
    "    \"student2\":{\"name\":\"Peter\",\"age\":35}\n",
    "}\n",
    "print(students)"
   ]
  },
  {
   "cell_type": "code",
   "execution_count": 20,
   "metadata": {},
   "outputs": [
    {
     "name": "stdout",
     "output_type": "stream",
     "text": [
      "Peter\n",
      "35\n"
     ]
    }
   ],
   "source": [
    "## Access nested dictionary elements\n",
    "print(students[\"student2\"][\"name\"])\n",
    "print(students[\"student2\"][\"age\"])"
   ]
  },
  {
   "cell_type": "code",
   "execution_count": 21,
   "metadata": {},
   "outputs": [
    {
     "name": "stdout",
     "output_type": "stream",
     "text": [
      "student1:{'name': 'Krish', 'age': 32}\n",
      "name:Krish\n",
      "age:32\n",
      "student2:{'name': 'Peter', 'age': 35}\n",
      "name:Peter\n",
      "age:35\n"
     ]
    }
   ],
   "source": [
    "#iterationg over nested dictionary\n",
    "for student_id,student_info in students.items():\n",
    "    print(f\"{student_id}:{student_info}\")\n",
    "    for key, value in student_info.items():\n",
    "        print(f\"{key}:{value}\")"
   ]
  },
  {
   "cell_type": "code",
   "execution_count": 22,
   "metadata": {},
   "outputs": [
    {
     "name": "stdout",
     "output_type": "stream",
     "text": [
      "{0: 0, 1: 1, 2: 4, 3: 9, 4: 16}\n"
     ]
    }
   ],
   "source": [
    "##Dictionary Comprhension\n",
    "squares = {x:x**2 for x in range(5)}\n",
    "print(squares)"
   ]
  },
  {
   "cell_type": "code",
   "execution_count": 23,
   "metadata": {},
   "outputs": [
    {
     "name": "stdout",
     "output_type": "stream",
     "text": [
      "{0: 0, 2: 4, 4: 16, 6: 36, 8: 64}\n"
     ]
    }
   ],
   "source": [
    "##Conditional dictionary comprehension\n",
    "evens = {x:x**2 for x in range(10) if x%2==0}\n",
    "print(evens)"
   ]
  },
  {
   "cell_type": "code",
   "execution_count": 24,
   "metadata": {},
   "outputs": [
    {
     "name": "stdout",
     "output_type": "stream",
     "text": [
      "{1: 1, 2: 2, 3: 3, 4: 4}\n"
     ]
    }
   ],
   "source": [
    "##Practical Examples\n",
    "##Use dictionary to count the frquency of elements in list\n",
    "numbers = [1,2,2,3,3,3,4,4,4,4]\n",
    "frequency = {}\n",
    "for number in numbers:\n",
    "    if number in frequency:\n",
    "        frequency[number]+=1\n",
    "    else:\n",
    "        frequency[number] = 1\n",
    "\n",
    "print(frequency)"
   ]
  },
  {
   "cell_type": "code",
   "execution_count": 26,
   "metadata": {},
   "outputs": [
    {
     "name": "stdout",
     "output_type": "stream",
     "text": [
      "{'a': 1, 'b': 3, 'c': 4}\n"
     ]
    }
   ],
   "source": [
    "##Merge 2 dictionaries int one\n",
    "dict1 = {\"a\":1, \"b\":2}\n",
    "dict2 = {\"b\":3, \"c\":4}\n",
    "merge_dict= {**dict1, **dict2}\n",
    "print(merge_dict)"
   ]
  },
  {
   "cell_type": "code",
   "execution_count": 1,
   "metadata": {},
   "outputs": [
    {
     "data": {
      "text/plain": [
       "6"
      ]
     },
     "execution_count": 1,
     "metadata": {},
     "output_type": "execute_result"
    }
   ],
   "source": [
    "#### Return statement\n",
    "def multiply(a , b):\n",
    "    return a*b\n",
    "\n",
    "multiply(2, 3)"
   ]
  },
  {
   "cell_type": "code",
   "execution_count": null,
   "metadata": {},
   "outputs": [
    {
     "data": {
      "text/plain": [
       "(6, 2)"
      ]
     },
     "execution_count": 2,
     "metadata": {},
     "output_type": "execute_result"
    }
   ],
   "source": [
    "#Return maultiple parameters\n",
    "def multiply(a , b):\n",
    "    return a*b, a\n",
    "\n",
    "multiply(2, 3)"
   ]
  }
 ],
 "metadata": {
  "kernelspec": {
   "display_name": "Python 3",
   "language": "python",
   "name": "python3"
  },
  "language_info": {
   "codemirror_mode": {
    "name": "ipython",
    "version": 3
   },
   "file_extension": ".py",
   "mimetype": "text/x-python",
   "name": "python",
   "nbconvert_exporter": "python",
   "pygments_lexer": "ipython3",
   "version": "3.12.0"
  }
 },
 "nbformat": 4,
 "nbformat_minor": 2
}
