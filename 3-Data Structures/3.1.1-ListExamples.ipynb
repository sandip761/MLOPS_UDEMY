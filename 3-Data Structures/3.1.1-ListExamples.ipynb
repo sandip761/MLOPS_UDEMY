{
 "cells": [
  {
   "cell_type": "markdown",
   "metadata": {},
   "source": [
    "#### Real-World Examples Using Lists in Python\n",
    "Lists are one of the most commonly used data structures in python, thanks to their versatility and ease of Use. Here are several practical examples that illustrates their use in real-world scenarios"
   ]
  },
  {
   "cell_type": "code",
   "execution_count": null,
   "metadata": {},
   "outputs": [
    {
     "ename": "AttributeError",
     "evalue": "'list' object has no attribute 'discard'",
     "output_type": "error",
     "traceback": [
      "\u001b[31m---------------------------------------------------------------------------\u001b[39m",
      "\u001b[31mAttributeError\u001b[39m                            Traceback (most recent call last)",
      "\u001b[36mCell\u001b[39m\u001b[36m \u001b[39m\u001b[32mIn[2]\u001b[39m\u001b[32m, line 11\u001b[39m\n\u001b[32m      9\u001b[39m \u001b[38;5;66;03m##remove a completed task\u001b[39;00m\n\u001b[32m     10\u001b[39m to_do_list.remove(\u001b[33m\"\u001b[39m\u001b[33mClean the house\u001b[39m\u001b[33m\"\u001b[39m)\n\u001b[32m---> \u001b[39m\u001b[32m11\u001b[39m \u001b[43mto_do_list\u001b[49m\u001b[43m.\u001b[49m\u001b[43mdiscard\u001b[49m(\u001b[33m\"\u001b[39m\u001b[33mClean the house\u001b[39m\u001b[33m\"\u001b[39m)\n\u001b[32m     13\u001b[39m \u001b[38;5;66;03m##Checking if atask is in the list\u001b[39;00m\n\u001b[32m     15\u001b[39m \u001b[38;5;28;01mif\u001b[39;00m \u001b[33m\"\u001b[39m\u001b[33mPay Bills\u001b[39m\u001b[33m\"\u001b[39m \u001b[38;5;129;01min\u001b[39;00m to_do_list:\n",
      "\u001b[31mAttributeError\u001b[39m: 'list' object has no attribute 'discard'"
     ]
    }
   ],
   "source": [
    "## Example 1 Manage a todo list\n",
    "#Create a to do list to keep track of tasks\n",
    "to_do_list = [\"Buy Groceries\", \"Clean the house\", \"Pay Bills\"]\n",
    "\n",
    "## Adding to task\n",
    "to_do_list.append(\"Schedule a meeting\")\n",
    "to_do_list.append(\"Go for a run\")\n",
    "\n",
    "##remove a completed task\n",
    "to_do_list.remove(\"Clean the house\")\n",
    "\n",
    "##Checking if atask is in the list\n",
    "\n",
    "if \"Pay Bills\" in to_do_list:\n",
    "    print(\"Don't forget to pay the utility bills\")\n",
    "\n",
    "print(\"To Do list remaing\")\n",
    "for task in  to_do_list:\n",
    "    print(f\"-{task}\")"
   ]
  },
  {
   "cell_type": "code",
   "execution_count": 2,
   "metadata": {},
   "outputs": [
    {
     "name": "stdout",
     "output_type": "stream",
     "text": [
      "Highest Grade: 95\n",
      "Lowest Grade: 78\n"
     ]
    }
   ],
   "source": [
    "##Example2 organising student grades\n",
    "##Using a list manage inventory items in a store\n",
    "\n",
    "#Organising student grades\n",
    "\n",
    "grades = [85, 92, 78, 90, 88]\n",
    "\n",
    "#Adding a new grade\n",
    "grades.append(95)\n",
    "\n",
    "#Calculating the average grade\n",
    "average_grade = sum(grades)/ len(grades)\n",
    "\n",
    "#Finding the heighest and lowest grades\n",
    "\n",
    "heighest_grade = max(grades)\n",
    "lowest_grade = min(grades)\n",
    "\n",
    "print(f\"Highest Grade: {heighest_grade}\")\n",
    "print(f\"Lowest Grade: {lowest_grade}\")"
   ]
  },
  {
   "cell_type": "code",
   "execution_count": 3,
   "metadata": {},
   "outputs": [
    {
     "name": "stdout",
     "output_type": "stream",
     "text": [
      "oranges are in stock\n",
      "Inventory List\n",
      "- apples\n",
      "- oranges\n",
      "- grapes\n",
      "- strawberries\n"
     ]
    }
   ],
   "source": [
    "##Example Managing An inventory\n",
    "\n",
    "inventory = [\"apples\", \"bananas\", \"oranges\", \"grapes\"]\n",
    "\n",
    "#Adding a new item\n",
    "inventory.append(\"strawberries\")\n",
    "\n",
    "#Removing an item that is out of stock\n",
    "inventory.remove(\"bananas\")\n",
    "\n",
    "#check if an item is in stock\n",
    "item = \"oranges\"\n",
    "if item in inventory:\n",
    "    print(f\"{item} are in stock\")\n",
    "else:\n",
    "    print(f\"{item} are out of stock\")\n",
    "\n",
    "#printing the inventory\n",
    "print(\"Inventory List\")\n",
    "for item in inventory:\n",
    "    print(f\"- {item}\")"
   ]
  },
  {
   "cell_type": "code",
   "execution_count": 5,
   "metadata": {},
   "outputs": [
    {
     "name": "stdout",
     "output_type": "stream",
     "text": [
      "Positive Feedback Count: 2\n",
      "User Feedback\n",
      "- Great Service!\n",
      "- Very Satisfied\n",
      "- Could be better\n",
      "- Excelent experience\n",
      "- Not happy with the service\n"
     ]
    }
   ],
   "source": [
    "## Example 4: Collecting User feedback\n",
    "feedback = [\"Great Service!\", \"Very Satisfied\", \"Could be better\", \"Excelent experience\"]\n",
    "\n",
    "#Adding new feedback\n",
    "feedback.append(\"Not happy with the service\")\n",
    "\n",
    "# Counting specific feedback\n",
    "positive_feedback_count = sum(1 for comment in feedback if \"great\" in comment.lower() or \"excelent\" in comment.lower())\n",
    "print(f\"Positive Feedback Count: {positive_feedback_count}\")\n",
    "\n",
    "#printing all feedback\n",
    "print(\"User Feedback\")\n",
    "for comment in feedback:\n",
    "    print(f\"- {comment}\")"
   ]
  }
 ],
 "metadata": {
  "kernelspec": {
   "display_name": "Python 3",
   "language": "python",
   "name": "python3"
  },
  "language_info": {
   "codemirror_mode": {
    "name": "ipython",
    "version": 3
   },
   "file_extension": ".py",
   "mimetype": "text/x-python",
   "name": "python",
   "nbconvert_exporter": "python",
   "pygments_lexer": "ipython3",
   "version": "3.12.0"
  }
 },
 "nbformat": 4,
 "nbformat_minor": 2
}
