{
 "cells": [
  {
   "cell_type": "markdown",
   "metadata": {},
   "source": [
    "#### Understanding Exception\n",
    "\n",
    "Exception handling in python allows you to handle errors geracefully and take corrective action without stopping the execution of the program. This lesson will cover the basics of exceptions, including how to use try, else, and finally blocks"
   ]
  },
  {
   "cell_type": "markdown",
   "metadata": {},
   "source": [
    "#### What Are Exceptions?\n",
    "Exceptions are events thta disrupt the normal flow of a program. they occur when an error is encountered during program execution. Common exceptions include:\n",
    "\n",
    "1. ZeroDivisonError:Dividing by Zero\n",
    "2. FileNotFoundError: File not found\n",
    "3. ValueEror: Invlid value\n",
    "4. TypeError: Invalid Type"
   ]
  },
  {
   "cell_type": "code",
   "execution_count": 2,
   "metadata": {},
   "outputs": [
    {
     "name": "stdout",
     "output_type": "stream",
     "text": [
      "The variable has not been assigned\n"
     ]
    }
   ],
   "source": [
    "## Exception try, except block\n",
    "try:\n",
    "    a = b\n",
    "except:\n",
    "    print(\"The variable has not been assigned\")"
   ]
  },
  {
   "cell_type": "code",
   "execution_count": 3,
   "metadata": {},
   "outputs": [
    {
     "ename": "NameError",
     "evalue": "name 'b' is not defined",
     "output_type": "error",
     "traceback": [
      "\u001b[31m---------------------------------------------------------------------------\u001b[39m",
      "\u001b[31mNameError\u001b[39m                                 Traceback (most recent call last)",
      "\u001b[36mCell\u001b[39m\u001b[36m \u001b[39m\u001b[32mIn[3]\u001b[39m\u001b[32m, line 1\u001b[39m\n\u001b[32m----> \u001b[39m\u001b[32m1\u001b[39m a=\u001b[43mb\u001b[49m\n",
      "\u001b[31mNameError\u001b[39m: name 'b' is not defined"
     ]
    }
   ],
   "source": [
    "a=b"
   ]
  },
  {
   "cell_type": "code",
   "execution_count": 4,
   "metadata": {},
   "outputs": [
    {
     "name": "stdout",
     "output_type": "stream",
     "text": [
      "name 'b' is not defined\n"
     ]
    }
   ],
   "source": [
    "try:\n",
    "    a = b\n",
    "except NameError as ex:\n",
    "    print(ex)"
   ]
  },
  {
   "cell_type": "code",
   "execution_count": 5,
   "metadata": {},
   "outputs": [
    {
     "name": "stdout",
     "output_type": "stream",
     "text": [
      "division by zero\n",
      "Please enter the denominator greater than 0\n"
     ]
    }
   ],
   "source": [
    "try:\n",
    "    result = 1/0\n",
    "except ZeroDivisionError as ex:\n",
    "    print(ex)\n",
    "    print(\"Please enter the denominator greater than 0\")"
   ]
  },
  {
   "cell_type": "code",
   "execution_count": 6,
   "metadata": {},
   "outputs": [
    {
     "name": "stdout",
     "output_type": "stream",
     "text": [
      "name 'b' is not defined\n",
      "Main exception got caught here\n"
     ]
    }
   ],
   "source": [
    "try:\n",
    "    result = 1/2\n",
    "    a=b\n",
    "except ZeroDivisionError as ex:\n",
    "    print(ex)\n",
    "    print(\"Please enter the denominator greater than 0\")\n",
    "except Exception as ex1:\n",
    "    print(ex1)\n",
    "    print('Main exception got caught here')\n",
    "    "
   ]
  },
  {
   "cell_type": "code",
   "execution_count": 7,
   "metadata": {},
   "outputs": [
    {
     "name": "stdout",
     "output_type": "stream",
     "text": [
      "Enter denominator greater than 0\n"
     ]
    }
   ],
   "source": [
    "try:\n",
    "    num = int(input(\"Enter a number\"))\n",
    "    result = 10/num\n",
    "except ValueError:\n",
    "    print(\"This is not a valid number\")\n",
    "except ZeroDivisionError:\n",
    "    print(\"Enter denominator greater than 0\")\n",
    "except Exception as ex:\n",
    "    print(ex)"
   ]
  },
  {
   "cell_type": "code",
   "execution_count": 9,
   "metadata": {},
   "outputs": [
    {
     "name": "stdout",
     "output_type": "stream",
     "text": [
      "Enter denominator greater than 0\n"
     ]
    }
   ],
   "source": [
    "## try except and else block\n",
    "try:\n",
    "    num = int(input(\"Enter a number\"))\n",
    "    result = 10/num\n",
    "except ValueError:\n",
    "    print(\"This is not a valid number\")\n",
    "except ZeroDivisionError:\n",
    "    print(\"Enter denominator greater than 0\")\n",
    "except Exception as ex:\n",
    "    print(ex)\n",
    "else:\n",
    "    print(f\"The resilt is {result}\")"
   ]
  },
  {
   "cell_type": "code",
   "execution_count": null,
   "metadata": {},
   "outputs": [
    {
     "name": "stdout",
     "output_type": "stream",
     "text": [
      "This is not a valid number\n",
      "Execution comlete\n"
     ]
    }
   ],
   "source": [
    "## try, except, else, finally\n",
    "\n",
    "try:\n",
    "    num = int(input(\"Enter a number\"))\n",
    "    result = 10/num\n",
    "except ValueError:\n",
    "    print(\"This is not a valid number\")\n",
    "except ZeroDivisionError:\n",
    "    print(\"Enter denominator greater than 0\")\n",
    "except Exception as ex:# This block excuted when the runtime error is not captured in any of the previous except block\n",
    "    print(ex)\n",
    "else:\n",
    "    print(f\"The resilt is {result}\")#This blook executed when there is no runtime error in try block\n",
    "finally:#This block of code executed even if there is run time error or not\n",
    "    print(\"Execution comlete\")"
   ]
  },
  {
   "cell_type": "code",
   "execution_count": null,
   "metadata": {},
   "outputs": [
    {
     "name": "stdout",
     "output_type": "stream",
     "text": [
      "name 'b' is not defined\n",
      "hello\n",
      "{'__name__': '__main__', '__doc__': 'Automatically created module for IPython interactive environment', '__package__': None, '__loader__': None, '__spec__': None, '__builtin__': <module 'builtins' (built-in)>, '__builtins__': <module 'builtins' (built-in)>, '_ih': ['', 'a=b', '## Exception try, except block\\ntry:\\n    a = b\\nexcept:\\n    print(\"The variable has not been assigned\")', 'a=b', 'try:\\n    a = b\\nexcept NameError as ex:\\n    print(ex)', 'try:\\n    result = 1/0\\nexcept ZeroDivisionError as ex:\\n    print(ex)\\n    print(\"Please enter the denominator greater than 0\")', 'try:\\n    result = 1/2\\n    a=b\\nexcept ZeroDivisionError as ex:\\n    print(ex)\\n    print(\"Please enter the denominator greater than 0\")\\nexcept Exception as ex1:\\n    print(ex1)\\n    print(\\'Main exception got caught here\\')', 'try:\\n    num = int(input(\"Enter a number\"))\\n    result = 10/num\\nexcept ValueError:\\n    print(\"This is not a valid number\")\\nexcept ZeroDivisionError:\\n    print(\"Enter denominator greater than 0\")\\nexcept Exception as ex:\\n    print(ex)', '## try except and else block\\ntry:\\n    num = int(input(\"Enter a number\"))\\n    result = 10/num\\nexcept ValueError:\\n    print(\"This is not a valid number\")\\nexcept ZeroDivisionError:\\n    print(\"Enter denominator greater than 0\")\\nexcept Exception as ex:\\n    print(ex)\\nelse:\\n    print(f\"The resilt is {result}\")', '## try except and else block\\ntry:\\n    num = int(input(\"Enter a number\"))\\n    result = 10/num\\nexcept ValueError:\\n    print(\"This is not a valid number\")\\nexcept ZeroDivisionError:\\n    print(\"Enter denominator greater than 0\")\\nexcept Exception as ex:\\n    print(ex)\\nelse:\\n    print(f\"The resilt is {result}\")', '## try, except, else, finally\\n\\ntry:\\n    num = int(input(\"Enter a number\"))\\n    result = 10/num\\nexcept ValueError:\\n    print(\"This is not a valid number\")\\nexcept ZeroDivisionError:\\n    print(\"Enter denominator greater than 0\")\\nexcept Exception as ex:\\n    print(ex)\\nelse:\\n    print(f\"The resilt is {result}\")\\nfinally:\\n    print(\"Execution comlete\")', '### File Handling and exeception Handling\\n\\ntry:\\n    file = open(\\'example1.txt\\', \\'r\\')\\n    content = file.read()\\n    print(content)\\n\\nexcept FileNotFoundError:\\n    print(\"The file does not exist\")\\n\\nfinally:\\n    if \\'file\\' in locals() and file.closed():\\n        file.close()\\n        print(\"file closed\")', '### File Handling and exeception Handling\\n\\ntry:\\n    file = open(\\'example1.txt\\', \\'r\\')\\n    content = file.read()\\n    a = b\\n    print(content)\\n\\nexcept FileNotFoundError:\\n    print(\"The file does not exist\")\\n\\nfinally:\\n    if \\'file\\' in locals() and file.closed():\\n        file.close()\\n        print(\"file closed\")', '### File Handling and exeception Handling\\n\\ntry:\\n    file = open(\\'example1.txt\\', \\'r\\')\\n    content = file.read()\\n    a = b\\n    print(content)\\n\\nexcept FileNotFoundError:\\n    print(\"The file does not exist\")\\n\\nfinally:\\n    if \\'file\\' in locals() and file.closed():\\n        file.close()\\n        print(\"file closed\")', '## try, except, else, finally\\n\\ntry:\\n    num = int(input(\"Enter a number\"))\\n    result = 10/num\\nexcept ValueError:\\n    print(\"This is not a valid number\")\\nexcept ZeroDivisionError:\\n    print(\"Enter denominator greater than 0\")\\nexcept Exception as ex:\\n    print(ex)\\nelse:\\n    print(f\"The resilt is {result}\")#\\nfinally:\\n    print(\"Execution comlete\")', '### File Handling and exeception Handling\\n\\ntry:\\n    file = open(\\'example1.txt\\', \\'r\\')\\n    content = file.read()\\n    a = b\\n    print(content)\\n\\nexcept FileNotFoundError:\\n    print(\"The file does not exist\")\\nexcept \\n\\nfinally:\\n\\n    if \\'file\\' in locals() and file.closed():\\n        file.close()\\n        print(\"file closed\")\\n    else:\\n        print(\"file variable is not created\")', '### File Handling and exeception Handling\\n\\ntry:\\n    file = open(\\'example1.txt\\', \\'r\\')\\n    content = file.read()\\n    a = b\\n    print(content)\\n\\nexcept FileNotFoundError:\\n    print(\"The file does not exist\")\\nexcept Exception as ex:\\n    print(ex)\\n\\nfinally:\\n\\n    if \\'file\\' in locals() and file.closed():\\n        file.close()\\n        print(\"file closed\")\\n    else:\\n        print(\"file variable is not created\")', '### File Handling and exeception Handling\\n\\ntry:\\n    file = open(\\'example1.txt\\', \\'r\\')\\n    content = file.read()\\n    a = b\\n    print(content)\\n\\nexcept FileNotFoundError:\\n    print(\"The file does not exist\")\\nexcept Exception as ex:\\n    print(ex)\\n\\nfinally:\\n\\n    if \\'file\\' in locals() and file.closed():\\n        file.close()\\n        print(\"file closed\")\\n    else:\\n        print(\"file variable is not created\")', '### File Handling and exeception Handling\\n\\ntry:\\n    file = open(\\'example1.txt\\', \\'r\\')\\n    content = file.read()\\n    a = b\\n    print(content)\\n\\nexcept FileNotFoundError:\\n    print(\"The file does not exist\")\\nexcept Exception as ex:\\n    print(ex)\\n\\nfinally:\\n\\n    if \\'file\\' in locals() or file.closed():\\n        file.close()\\n        print(\"file closed\")\\n    else:\\n        print(\"file variable is not created\")', '### File Handling and exeception Handling\\n\\ntry:\\n    file = open(\\'example1.txt\\', \\'r\\')\\n    content = file.read()\\n    a = b\\n    print(content)\\n\\nexcept FileNotFoundError:\\n    print(\"The file does not exist\")\\nexcept Exception as ex:\\n    print(ex)\\n\\nfinally:\\n\\n    if \\'file\\' in locals() or file.closed():\\n        file.close()\\n        print(\"file closed\")\\n    else:\\n        print(\"file variable is not created\")', '### File Handling and exeception Handling\\n\\ntry:\\n    file = open(\\'example1.txt\\', \\'r\\')\\n    content = file.read()\\n    a = b\\n    print(content)\\n\\nexcept FileNotFoundError:\\n    print(\"The file does not exist\")\\nexcept Exception as ex:\\n    print(ex)\\n\\nfinally:\\n\\n    if \\'file\\' in locals() and file.closed():\\n        file.close()\\n        print(\"file closed\")\\n    else:\\n        print(\"file variable is not created\")', '### File Handling and exeception Handling\\n\\ntry:\\n    file = open(\\'example1.txt\\', \\'r\\')\\n    content = file.read()\\n    a = b\\n    print(content)\\n\\nexcept FileNotFoundError:\\n    print(\"The file does not exist\")\\nexcept Exception as ex:\\n    print(ex)\\n\\nfinally:\\n    print(\"hello\")\\n    if \\'file\\' in locals() and file.closed():\\n        file.close()\\n        print(\"file closed\")\\n    else:\\n        print(\"file variable is not created\")', '### File Handling and exeception Handling\\n\\ntry:\\n    file = open(\\'example1.txt\\', \\'r\\')\\n    content = file.read()\\n    a = b\\n    print(content)\\n\\nexcept FileNotFoundError:\\n    print(\"The file does not exist\")\\nexcept Exception as ex:\\n    print(ex)\\n\\nfinally:\\n    print(\"hello\")\\n    if \\'file\\' in locals() or file.closed():\\n        file.close()\\n        print(\"file closed\")\\n    else:\\n        print(\"file variable is not created\")', '### File Handling and exeception Handling\\n\\ntry:\\n    file = open(\\'example1.txt\\', \\'r\\')\\n    content = file.read()\\n    a = b\\n    print(content)\\n\\nexcept FileNotFoundError:\\n    print(\"The file does not exist\")\\nexcept Exception as ex:\\n    print(ex)\\n\\nfinally:\\n    print(\"hello\")\\n    print(locals())\\n    if \\'file\\' in locals() or file.closed():\\n        file.close()\\n        print(\"file closed\")\\n    else:\\n        print(\"file variable is not created\")', '### File Handling and exeception Handling\\n\\ntry:\\n    file = open(\\'example1.txt\\', \\'r\\')\\n    content = file.read()\\n    a = b\\n    print(content)\\n\\nexcept FileNotFoundError:\\n    print(\"The file does not exist\")\\nexcept Exception as ex:\\n    print(ex)\\n\\nfinally:\\n    print(\"hello\")\\n    print(locals())\\n    if \\'file\\' in locals() and not file.closed():\\n        file.close()\\n        print(\"file closed\")\\n    else:\\n        print(\"file variable is not created\")', '### File Handling and exeception Handling\\n\\ntry:\\n    file = open(\\'example1.txt\\', \\'r\\')\\n    content = file.read()\\n    a = b\\n    print(content)\\n\\nexcept FileNotFoundError:\\n    print(\"The file does not exist\")\\nexcept Exception as ex:\\n    print(ex)\\n\\nfinally:\\n    print(\"hello\")\\n    print(locals())\\n    if \\'file\\' in locals() and not file.closed():\\n        file.close()\\n        print(\"file closed\")\\n    print(\"finally ended\")\\n    #else:\\n    #    print(\"file variable is not created\")', '### File Handling and exeception Handling\\n\\ntry:\\n    file = open(\\'example1.txt\\', \\'r\\')\\n    content = file.read()\\n    a = b\\n    print(content)\\n\\nexcept FileNotFoundError:\\n    print(\"The file does not exist\")\\nexcept Exception as ex:\\n    print(ex)\\n\\nfinally:\\n    print(\"hello\")\\n    print(locals())\\n    #if \\'file\\' in locals() and not file.closed():\\n    #    file.close()\\n    #    print(\"file closed\")\\n    print(\"finally ended\")\\n    #else:\\n    #    print(\"file variable is not created\")', '### File Handling and exeception Handling\\n\\ntry:\\n    file = open(\\'example1.txt\\', \\'r\\')\\n    content = file.read()\\n    a = b\\n    print(content)\\n\\nexcept FileNotFoundError:\\n    print(\"The file does not exist\")\\nexcept Exception as ex:\\n    print(ex)\\n\\nfinally:\\n    print(\"hello\")\\n    print(locals())\\n    if \\'file\\' in locals() and not file.closed():\\n        file.close()\\n        print(\"file closed\")\\n    print(\"finally ended\")\\n    #else:\\n    #    print(\"file variable is not created\")', '### File Handling and exeception Handling\\n\\ntry:\\n    file = open(\\'example1.txt\\', \\'r\\')\\n    content = file.read()\\n    a = b\\n    print(content)\\n\\nexcept FileNotFoundError:\\n    print(\"The file does not exist\")\\nexcept Exception as ex:\\n    print(ex)\\n\\nfinally:\\n    print(\"hello\")\\n    print(locals())\\n    if \\'file\\' in locals() and not file.closed:\\n        file.close()\\n        print(\"file closed\")\\n    print(\"finally ended\")\\n    #else:\\n    #    print(\"file variable is not created\")', '### File Handling and exeception Handling\\n\\ntry:\\n    file = open(\\'example1.txt\\', \\'r\\')\\n    content = file.read()\\n    a = b\\n    print(content)\\n\\nexcept FileNotFoundError:\\n    print(\"The file does not exist\")\\nexcept Exception as ex:\\n    print(ex)\\n\\nfinally:\\n    print(\"hello\")\\n    print(locals())\\n    if \\'file\\' in locals() and not file.closed():\\n        file.close()\\n        print(\"file closed\")\\n    else:\\n        print(\"file is not opened\")', '### File Handling and exeception Handling\\n\\ntry:\\n    file = open(\\'example1.txt\\', \\'r\\')\\n    content = file.read()\\n    a = b\\n    print(content)\\n\\nexcept FileNotFoundError:\\n    print(\"The file does not exist\")\\nexcept Exception as ex:\\n    print(ex)\\n\\nfinally:\\n    print(\"hello\")\\n    print(locals())\\n    if \\'file\\' in locals() and not file.closed:\\n        file.close()\\n        print(\"file closed\")\\n    else:\\n        print(\"file is not opened\")'], '_oh': {}, '_dh': [WindowsPath('c:/MLOPs/7-Exceptional Handling')], 'In': ['', 'a=b', '## Exception try, except block\\ntry:\\n    a = b\\nexcept:\\n    print(\"The variable has not been assigned\")', 'a=b', 'try:\\n    a = b\\nexcept NameError as ex:\\n    print(ex)', 'try:\\n    result = 1/0\\nexcept ZeroDivisionError as ex:\\n    print(ex)\\n    print(\"Please enter the denominator greater than 0\")', 'try:\\n    result = 1/2\\n    a=b\\nexcept ZeroDivisionError as ex:\\n    print(ex)\\n    print(\"Please enter the denominator greater than 0\")\\nexcept Exception as ex1:\\n    print(ex1)\\n    print(\\'Main exception got caught here\\')', 'try:\\n    num = int(input(\"Enter a number\"))\\n    result = 10/num\\nexcept ValueError:\\n    print(\"This is not a valid number\")\\nexcept ZeroDivisionError:\\n    print(\"Enter denominator greater than 0\")\\nexcept Exception as ex:\\n    print(ex)', '## try except and else block\\ntry:\\n    num = int(input(\"Enter a number\"))\\n    result = 10/num\\nexcept ValueError:\\n    print(\"This is not a valid number\")\\nexcept ZeroDivisionError:\\n    print(\"Enter denominator greater than 0\")\\nexcept Exception as ex:\\n    print(ex)\\nelse:\\n    print(f\"The resilt is {result}\")', '## try except and else block\\ntry:\\n    num = int(input(\"Enter a number\"))\\n    result = 10/num\\nexcept ValueError:\\n    print(\"This is not a valid number\")\\nexcept ZeroDivisionError:\\n    print(\"Enter denominator greater than 0\")\\nexcept Exception as ex:\\n    print(ex)\\nelse:\\n    print(f\"The resilt is {result}\")', '## try, except, else, finally\\n\\ntry:\\n    num = int(input(\"Enter a number\"))\\n    result = 10/num\\nexcept ValueError:\\n    print(\"This is not a valid number\")\\nexcept ZeroDivisionError:\\n    print(\"Enter denominator greater than 0\")\\nexcept Exception as ex:\\n    print(ex)\\nelse:\\n    print(f\"The resilt is {result}\")\\nfinally:\\n    print(\"Execution comlete\")', '### File Handling and exeception Handling\\n\\ntry:\\n    file = open(\\'example1.txt\\', \\'r\\')\\n    content = file.read()\\n    print(content)\\n\\nexcept FileNotFoundError:\\n    print(\"The file does not exist\")\\n\\nfinally:\\n    if \\'file\\' in locals() and file.closed():\\n        file.close()\\n        print(\"file closed\")', '### File Handling and exeception Handling\\n\\ntry:\\n    file = open(\\'example1.txt\\', \\'r\\')\\n    content = file.read()\\n    a = b\\n    print(content)\\n\\nexcept FileNotFoundError:\\n    print(\"The file does not exist\")\\n\\nfinally:\\n    if \\'file\\' in locals() and file.closed():\\n        file.close()\\n        print(\"file closed\")', '### File Handling and exeception Handling\\n\\ntry:\\n    file = open(\\'example1.txt\\', \\'r\\')\\n    content = file.read()\\n    a = b\\n    print(content)\\n\\nexcept FileNotFoundError:\\n    print(\"The file does not exist\")\\n\\nfinally:\\n    if \\'file\\' in locals() and file.closed():\\n        file.close()\\n        print(\"file closed\")', '## try, except, else, finally\\n\\ntry:\\n    num = int(input(\"Enter a number\"))\\n    result = 10/num\\nexcept ValueError:\\n    print(\"This is not a valid number\")\\nexcept ZeroDivisionError:\\n    print(\"Enter denominator greater than 0\")\\nexcept Exception as ex:\\n    print(ex)\\nelse:\\n    print(f\"The resilt is {result}\")#\\nfinally:\\n    print(\"Execution comlete\")', '### File Handling and exeception Handling\\n\\ntry:\\n    file = open(\\'example1.txt\\', \\'r\\')\\n    content = file.read()\\n    a = b\\n    print(content)\\n\\nexcept FileNotFoundError:\\n    print(\"The file does not exist\")\\nexcept \\n\\nfinally:\\n\\n    if \\'file\\' in locals() and file.closed():\\n        file.close()\\n        print(\"file closed\")\\n    else:\\n        print(\"file variable is not created\")', '### File Handling and exeception Handling\\n\\ntry:\\n    file = open(\\'example1.txt\\', \\'r\\')\\n    content = file.read()\\n    a = b\\n    print(content)\\n\\nexcept FileNotFoundError:\\n    print(\"The file does not exist\")\\nexcept Exception as ex:\\n    print(ex)\\n\\nfinally:\\n\\n    if \\'file\\' in locals() and file.closed():\\n        file.close()\\n        print(\"file closed\")\\n    else:\\n        print(\"file variable is not created\")', '### File Handling and exeception Handling\\n\\ntry:\\n    file = open(\\'example1.txt\\', \\'r\\')\\n    content = file.read()\\n    a = b\\n    print(content)\\n\\nexcept FileNotFoundError:\\n    print(\"The file does not exist\")\\nexcept Exception as ex:\\n    print(ex)\\n\\nfinally:\\n\\n    if \\'file\\' in locals() and file.closed():\\n        file.close()\\n        print(\"file closed\")\\n    else:\\n        print(\"file variable is not created\")', '### File Handling and exeception Handling\\n\\ntry:\\n    file = open(\\'example1.txt\\', \\'r\\')\\n    content = file.read()\\n    a = b\\n    print(content)\\n\\nexcept FileNotFoundError:\\n    print(\"The file does not exist\")\\nexcept Exception as ex:\\n    print(ex)\\n\\nfinally:\\n\\n    if \\'file\\' in locals() or file.closed():\\n        file.close()\\n        print(\"file closed\")\\n    else:\\n        print(\"file variable is not created\")', '### File Handling and exeception Handling\\n\\ntry:\\n    file = open(\\'example1.txt\\', \\'r\\')\\n    content = file.read()\\n    a = b\\n    print(content)\\n\\nexcept FileNotFoundError:\\n    print(\"The file does not exist\")\\nexcept Exception as ex:\\n    print(ex)\\n\\nfinally:\\n\\n    if \\'file\\' in locals() or file.closed():\\n        file.close()\\n        print(\"file closed\")\\n    else:\\n        print(\"file variable is not created\")', '### File Handling and exeception Handling\\n\\ntry:\\n    file = open(\\'example1.txt\\', \\'r\\')\\n    content = file.read()\\n    a = b\\n    print(content)\\n\\nexcept FileNotFoundError:\\n    print(\"The file does not exist\")\\nexcept Exception as ex:\\n    print(ex)\\n\\nfinally:\\n\\n    if \\'file\\' in locals() and file.closed():\\n        file.close()\\n        print(\"file closed\")\\n    else:\\n        print(\"file variable is not created\")', '### File Handling and exeception Handling\\n\\ntry:\\n    file = open(\\'example1.txt\\', \\'r\\')\\n    content = file.read()\\n    a = b\\n    print(content)\\n\\nexcept FileNotFoundError:\\n    print(\"The file does not exist\")\\nexcept Exception as ex:\\n    print(ex)\\n\\nfinally:\\n    print(\"hello\")\\n    if \\'file\\' in locals() and file.closed():\\n        file.close()\\n        print(\"file closed\")\\n    else:\\n        print(\"file variable is not created\")', '### File Handling and exeception Handling\\n\\ntry:\\n    file = open(\\'example1.txt\\', \\'r\\')\\n    content = file.read()\\n    a = b\\n    print(content)\\n\\nexcept FileNotFoundError:\\n    print(\"The file does not exist\")\\nexcept Exception as ex:\\n    print(ex)\\n\\nfinally:\\n    print(\"hello\")\\n    if \\'file\\' in locals() or file.closed():\\n        file.close()\\n        print(\"file closed\")\\n    else:\\n        print(\"file variable is not created\")', '### File Handling and exeception Handling\\n\\ntry:\\n    file = open(\\'example1.txt\\', \\'r\\')\\n    content = file.read()\\n    a = b\\n    print(content)\\n\\nexcept FileNotFoundError:\\n    print(\"The file does not exist\")\\nexcept Exception as ex:\\n    print(ex)\\n\\nfinally:\\n    print(\"hello\")\\n    print(locals())\\n    if \\'file\\' in locals() or file.closed():\\n        file.close()\\n        print(\"file closed\")\\n    else:\\n        print(\"file variable is not created\")', '### File Handling and exeception Handling\\n\\ntry:\\n    file = open(\\'example1.txt\\', \\'r\\')\\n    content = file.read()\\n    a = b\\n    print(content)\\n\\nexcept FileNotFoundError:\\n    print(\"The file does not exist\")\\nexcept Exception as ex:\\n    print(ex)\\n\\nfinally:\\n    print(\"hello\")\\n    print(locals())\\n    if \\'file\\' in locals() and not file.closed():\\n        file.close()\\n        print(\"file closed\")\\n    else:\\n        print(\"file variable is not created\")', '### File Handling and exeception Handling\\n\\ntry:\\n    file = open(\\'example1.txt\\', \\'r\\')\\n    content = file.read()\\n    a = b\\n    print(content)\\n\\nexcept FileNotFoundError:\\n    print(\"The file does not exist\")\\nexcept Exception as ex:\\n    print(ex)\\n\\nfinally:\\n    print(\"hello\")\\n    print(locals())\\n    if \\'file\\' in locals() and not file.closed():\\n        file.close()\\n        print(\"file closed\")\\n    print(\"finally ended\")\\n    #else:\\n    #    print(\"file variable is not created\")', '### File Handling and exeception Handling\\n\\ntry:\\n    file = open(\\'example1.txt\\', \\'r\\')\\n    content = file.read()\\n    a = b\\n    print(content)\\n\\nexcept FileNotFoundError:\\n    print(\"The file does not exist\")\\nexcept Exception as ex:\\n    print(ex)\\n\\nfinally:\\n    print(\"hello\")\\n    print(locals())\\n    #if \\'file\\' in locals() and not file.closed():\\n    #    file.close()\\n    #    print(\"file closed\")\\n    print(\"finally ended\")\\n    #else:\\n    #    print(\"file variable is not created\")', '### File Handling and exeception Handling\\n\\ntry:\\n    file = open(\\'example1.txt\\', \\'r\\')\\n    content = file.read()\\n    a = b\\n    print(content)\\n\\nexcept FileNotFoundError:\\n    print(\"The file does not exist\")\\nexcept Exception as ex:\\n    print(ex)\\n\\nfinally:\\n    print(\"hello\")\\n    print(locals())\\n    if \\'file\\' in locals() and not file.closed():\\n        file.close()\\n        print(\"file closed\")\\n    print(\"finally ended\")\\n    #else:\\n    #    print(\"file variable is not created\")', '### File Handling and exeception Handling\\n\\ntry:\\n    file = open(\\'example1.txt\\', \\'r\\')\\n    content = file.read()\\n    a = b\\n    print(content)\\n\\nexcept FileNotFoundError:\\n    print(\"The file does not exist\")\\nexcept Exception as ex:\\n    print(ex)\\n\\nfinally:\\n    print(\"hello\")\\n    print(locals())\\n    if \\'file\\' in locals() and not file.closed:\\n        file.close()\\n        print(\"file closed\")\\n    print(\"finally ended\")\\n    #else:\\n    #    print(\"file variable is not created\")', '### File Handling and exeception Handling\\n\\ntry:\\n    file = open(\\'example1.txt\\', \\'r\\')\\n    content = file.read()\\n    a = b\\n    print(content)\\n\\nexcept FileNotFoundError:\\n    print(\"The file does not exist\")\\nexcept Exception as ex:\\n    print(ex)\\n\\nfinally:\\n    print(\"hello\")\\n    print(locals())\\n    if \\'file\\' in locals() and not file.closed():\\n        file.close()\\n        print(\"file closed\")\\n    else:\\n        print(\"file is not opened\")', '### File Handling and exeception Handling\\n\\ntry:\\n    file = open(\\'example1.txt\\', \\'r\\')\\n    content = file.read()\\n    a = b\\n    print(content)\\n\\nexcept FileNotFoundError:\\n    print(\"The file does not exist\")\\nexcept Exception as ex:\\n    print(ex)\\n\\nfinally:\\n    print(\"hello\")\\n    print(locals())\\n    if \\'file\\' in locals() and not file.closed:\\n        file.close()\\n        print(\"file closed\")\\n    else:\\n        print(\"file is not opened\")'], 'Out': {}, 'get_ipython': <bound method InteractiveShell.get_ipython of <ipykernel.zmqshell.ZMQInteractiveShell object at 0x00000212041E3110>>, 'exit': <IPython.core.autocall.ZMQExitAutocall object at 0x00000212041E33B0>, 'quit': <IPython.core.autocall.ZMQExitAutocall object at 0x00000212041E33B0>, 'open': <function open at 0x0000021202380040>, '_': '', '__': '', '___': '', '__vsc_ipynb_file__': 'c:\\\\MLOPs\\\\7-Exceptional Handling\\\\7.1-exception.ipynb', '_i': '### File Handling and exeception Handling\\n\\ntry:\\n    file = open(\\'example1.txt\\', \\'r\\')\\n    content = file.read()\\n    a = b\\n    print(content)\\n\\nexcept FileNotFoundError:\\n    print(\"The file does not exist\")\\nexcept Exception as ex:\\n    print(ex)\\n\\nfinally:\\n    print(\"hello\")\\n    print(locals())\\n    if \\'file\\' in locals() and not file.closed():\\n        file.close()\\n        print(\"file closed\")\\n    else:\\n        print(\"file is not opened\")', '_ii': '### File Handling and exeception Handling\\n\\ntry:\\n    file = open(\\'example1.txt\\', \\'r\\')\\n    content = file.read()\\n    a = b\\n    print(content)\\n\\nexcept FileNotFoundError:\\n    print(\"The file does not exist\")\\nexcept Exception as ex:\\n    print(ex)\\n\\nfinally:\\n    print(\"hello\")\\n    print(locals())\\n    if \\'file\\' in locals() and not file.closed:\\n        file.close()\\n        print(\"file closed\")\\n    print(\"finally ended\")\\n    #else:\\n    #    print(\"file variable is not created\")', '_iii': '### File Handling and exeception Handling\\n\\ntry:\\n    file = open(\\'example1.txt\\', \\'r\\')\\n    content = file.read()\\n    a = b\\n    print(content)\\n\\nexcept FileNotFoundError:\\n    print(\"The file does not exist\")\\nexcept Exception as ex:\\n    print(ex)\\n\\nfinally:\\n    print(\"hello\")\\n    print(locals())\\n    if \\'file\\' in locals() and not file.closed():\\n        file.close()\\n        print(\"file closed\")\\n    print(\"finally ended\")\\n    #else:\\n    #    print(\"file variable is not created\")', '_i1': 'a=b', '_i2': '## Exception try, except block\\ntry:\\n    a = b\\nexcept:\\n    print(\"The variable has not been assigned\")', '_i3': 'a=b', '_i4': 'try:\\n    a = b\\nexcept NameError as ex:\\n    print(ex)', '_i5': 'try:\\n    result = 1/0\\nexcept ZeroDivisionError as ex:\\n    print(ex)\\n    print(\"Please enter the denominator greater than 0\")', '_i6': 'try:\\n    result = 1/2\\n    a=b\\nexcept ZeroDivisionError as ex:\\n    print(ex)\\n    print(\"Please enter the denominator greater than 0\")\\nexcept Exception as ex1:\\n    print(ex1)\\n    print(\\'Main exception got caught here\\')\\n    ', 'result': 0.8333333333333334, '_i7': 'try:\\n    num = int(input(\"Enter a number\"))\\n    result = 10/num\\nexcept ValueError:\\n    print(\"This is not a valid number\")\\nexcept ZeroDivisionError:\\n    print(\"Enter denominator greater than 0\")\\nexcept Exception as ex:\\n    print(ex)', 'num': 12, '_i8': '## try except and else block\\ntry:\\n    num = int(input(\"Enter a number\"))\\n    result = 10/num\\nexcept ValueError:\\n    print(\"This is not a valid number\")\\nexcept ZeroDivisionError:\\n    print(\"Enter denominator greater than 0\")\\nexcept Exception as ex:\\n    print(ex)\\nelse:\\n    print(f\"The resilt is {result}\")', '_i9': '## try except and else block\\ntry:\\n    num = int(input(\"Enter a number\"))\\n    result = 10/num\\nexcept ValueError:\\n    print(\"This is not a valid number\")\\nexcept ZeroDivisionError:\\n    print(\"Enter denominator greater than 0\")\\nexcept Exception as ex:\\n    print(ex)\\nelse:\\n    print(f\"The resilt is {result}\")', '_i10': '## try, except, else, finally\\n\\ntry:\\n    num = int(input(\"Enter a number\"))\\n    result = 10/num\\nexcept ValueError:\\n    print(\"This is not a valid number\")\\nexcept ZeroDivisionError:\\n    print(\"Enter denominator greater than 0\")\\nexcept Exception as ex:\\n    print(ex)\\nelse:\\n    print(f\"The resilt is {result}\")\\nfinally:\\n    print(\"Execution comlete\")', '_i11': '### File Handling and exeception Handling\\n\\ntry:\\n    file = open(\\'example1.txt\\', \\'r\\')\\n    content = file.read()\\n    print(content)\\n\\nexcept FileNotFoundError:\\n    print(\"The file does not exist\")\\n\\nfinally:\\n    if \\'file\\' in locals() and file.closed():\\n        file.close()\\n        print(\"file closed\")', '_i12': '### File Handling and exeception Handling\\n\\ntry:\\n    file = open(\\'example1.txt\\', \\'r\\')\\n    content = file.read()\\n    a = b\\n    print(content)\\n\\nexcept FileNotFoundError:\\n    print(\"The file does not exist\")\\n\\nfinally:\\n    if \\'file\\' in locals() and file.closed():\\n        file.close()\\n        print(\"file closed\")', '_i13': '### File Handling and exeception Handling\\n\\ntry:\\n    file = open(\\'example1.txt\\', \\'r\\')\\n    content = file.read()\\n    a = b\\n    print(content)\\n\\nexcept FileNotFoundError:\\n    print(\"The file does not exist\")\\n\\nfinally:\\n    if \\'file\\' in locals() and file.closed():\\n        file.close()\\n        print(\"file closed\")', '_i14': '## try, except, else, finally\\n\\ntry:\\n    num = int(input(\"Enter a number\"))\\n    result = 10/num\\nexcept ValueError:\\n    print(\"This is not a valid number\")\\nexcept ZeroDivisionError:\\n    print(\"Enter denominator greater than 0\")\\nexcept Exception as ex:\\n    print(ex)\\nelse:\\n    print(f\"The resilt is {result}\")#\\nfinally:\\n    print(\"Execution comlete\")', '_i15': '### File Handling and exeception Handling\\n\\ntry:\\n    file = open(\\'example1.txt\\', \\'r\\')\\n    content = file.read()\\n    a = b\\n    print(content)\\n\\nexcept FileNotFoundError:\\n    print(\"The file does not exist\")\\nexcept \\n\\nfinally:\\n    \\n    if \\'file\\' in locals() and file.closed():\\n        file.close()\\n        print(\"file closed\")\\n    else:\\n        print(\"file variable is not created\")', '_i16': '### File Handling and exeception Handling\\n\\ntry:\\n    file = open(\\'example1.txt\\', \\'r\\')\\n    content = file.read()\\n    a = b\\n    print(content)\\n\\nexcept FileNotFoundError:\\n    print(\"The file does not exist\")\\nexcept Exception as ex:\\n    print(ex)\\n\\nfinally:\\n    \\n    if \\'file\\' in locals() and file.closed():\\n        file.close()\\n        print(\"file closed\")\\n    else:\\n        print(\"file variable is not created\")', '_i17': '### File Handling and exeception Handling\\n\\ntry:\\n    file = open(\\'example1.txt\\', \\'r\\')\\n    content = file.read()\\n    a = b\\n    print(content)\\n\\nexcept FileNotFoundError:\\n    print(\"The file does not exist\")\\nexcept Exception as ex:\\n    print(ex)\\n\\nfinally:\\n    \\n    if \\'file\\' in locals() and file.closed():\\n        file.close()\\n        print(\"file closed\")\\n    else:\\n        print(\"file variable is not created\")', 'file': <_io.TextIOWrapper name='example1.txt' mode='r' encoding='utf-8'>, 'content': '', '_i18': '### File Handling and exeception Handling\\n\\ntry:\\n    file = open(\\'example1.txt\\', \\'r\\')\\n    content = file.read()\\n    a = b\\n    print(content)\\n\\nexcept FileNotFoundError:\\n    print(\"The file does not exist\")\\nexcept Exception as ex:\\n    print(ex)\\n\\nfinally:\\n    \\n    if \\'file\\' in locals() or file.closed():\\n        file.close()\\n        print(\"file closed\")\\n    else:\\n        print(\"file variable is not created\")', '_i19': '### File Handling and exeception Handling\\n\\ntry:\\n    file = open(\\'example1.txt\\', \\'r\\')\\n    content = file.read()\\n    a = b\\n    print(content)\\n\\nexcept FileNotFoundError:\\n    print(\"The file does not exist\")\\nexcept Exception as ex:\\n    print(ex)\\n\\nfinally:\\n    \\n    if \\'file\\' in locals() or file.closed():\\n        file.close()\\n        print(\"file closed\")\\n    else:\\n        print(\"file variable is not created\")', '_i20': '### File Handling and exeception Handling\\n\\ntry:\\n    file = open(\\'example1.txt\\', \\'r\\')\\n    content = file.read()\\n    a = b\\n    print(content)\\n\\nexcept FileNotFoundError:\\n    print(\"The file does not exist\")\\nexcept Exception as ex:\\n    print(ex)\\n\\nfinally:\\n    \\n    if \\'file\\' in locals() and file.closed():\\n        file.close()\\n        print(\"file closed\")\\n    else:\\n        print(\"file variable is not created\")', '_i21': '### File Handling and exeception Handling\\n\\ntry:\\n    file = open(\\'example1.txt\\', \\'r\\')\\n    content = file.read()\\n    a = b\\n    print(content)\\n\\nexcept FileNotFoundError:\\n    print(\"The file does not exist\")\\nexcept Exception as ex:\\n    print(ex)\\n\\nfinally:\\n    print(\"hello\")\\n    if \\'file\\' in locals() and file.closed():\\n        file.close()\\n        print(\"file closed\")\\n    else:\\n        print(\"file variable is not created\")', '_i22': '### File Handling and exeception Handling\\n\\ntry:\\n    file = open(\\'example1.txt\\', \\'r\\')\\n    content = file.read()\\n    a = b\\n    print(content)\\n\\nexcept FileNotFoundError:\\n    print(\"The file does not exist\")\\nexcept Exception as ex:\\n    print(ex)\\n\\nfinally:\\n    print(\"hello\")\\n    if \\'file\\' in locals() or file.closed():\\n        file.close()\\n        print(\"file closed\")\\n    else:\\n        print(\"file variable is not created\")', '_i23': '### File Handling and exeception Handling\\n\\ntry:\\n    file = open(\\'example1.txt\\', \\'r\\')\\n    content = file.read()\\n    a = b\\n    print(content)\\n\\nexcept FileNotFoundError:\\n    print(\"The file does not exist\")\\nexcept Exception as ex:\\n    print(ex)\\n\\nfinally:\\n    print(\"hello\")\\n    print(locals())\\n    if \\'file\\' in locals() or file.closed():\\n        file.close()\\n        print(\"file closed\")\\n    else:\\n        print(\"file variable is not created\")', '_i24': '### File Handling and exeception Handling\\n\\ntry:\\n    file = open(\\'example1.txt\\', \\'r\\')\\n    content = file.read()\\n    a = b\\n    print(content)\\n\\nexcept FileNotFoundError:\\n    print(\"The file does not exist\")\\nexcept Exception as ex:\\n    print(ex)\\n\\nfinally:\\n    print(\"hello\")\\n    print(locals())\\n    if \\'file\\' in locals() and not file.closed():\\n        file.close()\\n        print(\"file closed\")\\n    else:\\n        print(\"file variable is not created\")', '_i25': '### File Handling and exeception Handling\\n\\ntry:\\n    file = open(\\'example1.txt\\', \\'r\\')\\n    content = file.read()\\n    a = b\\n    print(content)\\n\\nexcept FileNotFoundError:\\n    print(\"The file does not exist\")\\nexcept Exception as ex:\\n    print(ex)\\n\\nfinally:\\n    print(\"hello\")\\n    print(locals())\\n    if \\'file\\' in locals() and not file.closed():\\n        file.close()\\n        print(\"file closed\")\\n    print(\"finally ended\")\\n    #else:\\n    #    print(\"file variable is not created\")', '_i26': '### File Handling and exeception Handling\\n\\ntry:\\n    file = open(\\'example1.txt\\', \\'r\\')\\n    content = file.read()\\n    a = b\\n    print(content)\\n\\nexcept FileNotFoundError:\\n    print(\"The file does not exist\")\\nexcept Exception as ex:\\n    print(ex)\\n\\nfinally:\\n    print(\"hello\")\\n    print(locals())\\n    #if \\'file\\' in locals() and not file.closed():\\n    #    file.close()\\n    #    print(\"file closed\")\\n    print(\"finally ended\")\\n    #else:\\n    #    print(\"file variable is not created\")', '_i27': '### File Handling and exeception Handling\\n\\ntry:\\n    file = open(\\'example1.txt\\', \\'r\\')\\n    content = file.read()\\n    a = b\\n    print(content)\\n\\nexcept FileNotFoundError:\\n    print(\"The file does not exist\")\\nexcept Exception as ex:\\n    print(ex)\\n\\nfinally:\\n    print(\"hello\")\\n    print(locals())\\n    if \\'file\\' in locals() and not file.closed():\\n        file.close()\\n        print(\"file closed\")\\n    print(\"finally ended\")\\n    #else:\\n    #    print(\"file variable is not created\")', '_i28': '### File Handling and exeception Handling\\n\\ntry:\\n    file = open(\\'example1.txt\\', \\'r\\')\\n    content = file.read()\\n    a = b\\n    print(content)\\n\\nexcept FileNotFoundError:\\n    print(\"The file does not exist\")\\nexcept Exception as ex:\\n    print(ex)\\n\\nfinally:\\n    print(\"hello\")\\n    print(locals())\\n    if \\'file\\' in locals() and not file.closed:\\n        file.close()\\n        print(\"file closed\")\\n    print(\"finally ended\")\\n    #else:\\n    #    print(\"file variable is not created\")', '_i29': '### File Handling and exeception Handling\\n\\ntry:\\n    file = open(\\'example1.txt\\', \\'r\\')\\n    content = file.read()\\n    a = b\\n    print(content)\\n\\nexcept FileNotFoundError:\\n    print(\"The file does not exist\")\\nexcept Exception as ex:\\n    print(ex)\\n\\nfinally:\\n    print(\"hello\")\\n    print(locals())\\n    if \\'file\\' in locals() and not file.closed():\\n        file.close()\\n        print(\"file closed\")\\n    else:\\n        print(\"file is not opened\")', '_i30': '### File Handling and exeception Handling\\n\\ntry:\\n    file = open(\\'example1.txt\\', \\'r\\')\\n    content = file.read()\\n    a = b\\n    print(content)\\n\\nexcept FileNotFoundError:\\n    print(\"The file does not exist\")\\nexcept Exception as ex:\\n    print(ex)\\n\\nfinally:\\n    print(\"hello\")\\n    print(locals())\\n    if \\'file\\' in locals() and not file.closed:\\n        file.close()\\n        print(\"file closed\")\\n    else:\\n        print(\"file is not opened\")', '__warningregistry__': {'version': 229}}\n",
      "file closed\n"
     ]
    }
   ],
   "source": [
    "### File Handling and exeception Handling\n",
    "\n",
    "try:\n",
    "    file = open('example1.txt', 'r')\n",
    "    content = file.read()\n",
    "    a = b\n",
    "    print(content)\n",
    "\n",
    "except FileNotFoundError:\n",
    "    print(\"The file does not exist\")\n",
    "except Exception as ex:\n",
    "    print(ex)\n",
    "\n",
    "finally:\n",
    "    print(\"hello\")\n",
    "    print(locals())\n",
    "    if 'file' in locals() and not file.closed:\n",
    "        file.close()\n",
    "        print(\"file closed\")\n",
    "    else:\n",
    "        print(\"file is not opened\")\n",
    "\n",
    "#\"'file' in locals()\" is file variable present in the local scope "
   ]
  }
 ],
 "metadata": {
  "kernelspec": {
   "display_name": "Python 3",
   "language": "python",
   "name": "python3"
  },
  "language_info": {
   "codemirror_mode": {
    "name": "ipython",
    "version": 3
   },
   "file_extension": ".py",
   "mimetype": "text/x-python",
   "name": "python",
   "nbconvert_exporter": "python",
   "pygments_lexer": "ipython3",
   "version": "3.12.0"
  }
 },
 "nbformat": 4,
 "nbformat_minor": 2
}
